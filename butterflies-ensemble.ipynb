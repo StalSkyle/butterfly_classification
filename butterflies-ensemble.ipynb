{
 "cells": [
  {
   "cell_type": "code",
   "execution_count": 11,
   "metadata": {
    "_cell_guid": "b1076dfc-b9ad-4769-8c92-a6c4dae69d19",
    "_uuid": "8f2839f25d086af736a60e9eeb907d3b93b6e0e5",
    "execution": {
     "iopub.execute_input": "2025-07-31T08:56:59.440471Z",
     "iopub.status.busy": "2025-07-31T08:56:59.440157Z",
     "iopub.status.idle": "2025-07-31T08:56:59.445816Z",
     "shell.execute_reply": "2025-07-31T08:56:59.444902Z",
     "shell.execute_reply.started": "2025-07-31T08:56:59.440450Z"
    }
   },
   "outputs": [],
   "source": [
    "import os\n",
    "import numpy as np\n",
    "import pandas as pd\n",
    "import torch\n",
    "import torch.nn as nn\n",
    "import torch.optim as optim\n",
    "from torch.utils.data import DataLoader, Dataset, random_split\n",
    "from torchvision import transforms, models, datasets\n",
    "from PIL import Image\n",
    "from sklearn.preprocessing import LabelEncoder\n",
    "from tqdm import tqdm\n",
    "import re\n",
    "import matplotlib.pyplot as plt\n",
    "\n",
    "train_dir = \"/kaggle/input/butterflies/train_butterflies/\"\n",
    "test_dir = \"/kaggle/input/butterflies/test_butterflies/\"\n",
    "device = torch.device(\"cuda\" if torch.cuda.is_available() else \"cpu\")\n",
    "batch_size = 16"
   ]
  },
  {
   "cell_type": "code",
   "execution_count": 12,
   "metadata": {
    "execution": {
     "iopub.execute_input": "2025-07-31T08:56:59.447406Z",
     "iopub.status.busy": "2025-07-31T08:56:59.447130Z",
     "iopub.status.idle": "2025-07-31T08:56:59.475756Z",
     "shell.execute_reply": "2025-07-31T08:56:59.475013Z",
     "shell.execute_reply.started": "2025-07-31T08:56:59.447388Z"
    }
   },
   "outputs": [],
   "source": [
    "# функция для рисования кривых обучения\n",
    "def plot_training_curves(train_loss, val_loss, train_acc, val_acc):\n",
    "    fig, axes = plt.subplots(1, 2, figsize=(12, 5))\n",
    "\n",
    "    axes[0].plot(train_loss, label='Train Loss', linewidth=2)\n",
    "    axes[0].plot(val_loss, label='Val Loss', linewidth=2)\n",
    "    axes[0].set_title('Loss per Epoch', fontsize=14)\n",
    "    axes[0].set_xlabel('Epoch', fontsize=12)\n",
    "    axes[0].set_ylabel('Loss', fontsize=12)\n",
    "    axes[0].legend(loc='upper right', fontsize=10)\n",
    "\n",
    "    axes[1].plot(train_acc, label='Train Accuracy', linewidth=2)\n",
    "    axes[1].plot(val_acc, label='Val Accuracy', linewidth=2)\n",
    "    axes[1].set_title('Accuracy per Epoch', fontsize=14)\n",
    "    axes[1].set_xlabel('Epoch', fontsize=12)\n",
    "    axes[1].set_ylabel('Accuracy', fontsize=12)\n",
    "    axes[1].legend(loc='lower right', fontsize=10)\n",
    "\n",
    "    plt.show()"
   ]
  },
  {
   "cell_type": "code",
   "execution_count": 13,
   "metadata": {
    "execution": {
     "iopub.execute_input": "2025-07-31T08:56:59.476620Z",
     "iopub.status.busy": "2025-07-31T08:56:59.476399Z",
     "iopub.status.idle": "2025-07-31T08:56:59.493978Z",
     "shell.execute_reply": "2025-07-31T08:56:59.493253Z",
     "shell.execute_reply.started": "2025-07-31T08:56:59.476604Z"
    }
   },
   "outputs": [],
   "source": [
    "# тренировка модели\n",
    "def train_model(model, num_epochs, optimizer, criterion, name, scheduler=None):\n",
    "    max_acc = 0\n",
    "    \n",
    "    train_loss_list = []\n",
    "    val_loss_list = []\n",
    "    train_acc_list = []\n",
    "    val_acc_list = []\n",
    "    \n",
    "    for epoch in range(num_epochs):\n",
    "        # тренировка\n",
    "        model.train()\n",
    "        train_loss = 0.0\n",
    "        correct = 0\n",
    "        total = 0\n",
    "        \n",
    "        for inputs, labels in tqdm(train_loader, desc=f\"Epoch {epoch+1}/{num_epochs}\"):\n",
    "            inputs, labels = inputs.to(device), labels.to(device)\n",
    "            \n",
    "            optimizer.zero_grad()\n",
    "            outputs = model(inputs)\n",
    "            loss = criterion(outputs, labels)\n",
    "            loss.backward()\n",
    "            optimizer.step()\n",
    "            \n",
    "            train_loss += loss.item()\n",
    "            _, predicted = outputs.max(1)\n",
    "            total += labels.size(0)\n",
    "            correct += predicted.eq(labels).sum().item()\n",
    "        \n",
    "        train_acc = 100. * correct / total\n",
    "        train_loss /= len(train_loader)\n",
    "        \n",
    "        # валидация\n",
    "        model.eval()\n",
    "        val_loss = 0.0\n",
    "        correct = 0\n",
    "        total = 0\n",
    "        \n",
    "        with torch.no_grad():\n",
    "            for inputs, labels in val_loader:\n",
    "                inputs, labels = inputs.to(device), labels.to(device)\n",
    "                outputs = model(inputs)\n",
    "                loss = criterion(outputs, labels)\n",
    "                \n",
    "                val_loss += loss.item()\n",
    "                _, predicted = outputs.max(1)\n",
    "                total += labels.size(0)\n",
    "                correct += predicted.eq(labels).sum().item()\n",
    "        \n",
    "        val_acc = 100. * correct / total\n",
    "        val_loss /= len(val_loader)\n",
    "\n",
    "        if scheduler is not None:\n",
    "            scheduler.step(val_loss)\n",
    "        \n",
    "        print(f\"Train Loss: {train_loss:.4f} | Acc: {train_acc:.2f}%\")\n",
    "        print(f\"Val Loss: {val_loss:.4f} | Acc: {val_acc:.2f}%\")\n",
    "    \n",
    "        train_loss_list.append(train_loss)\n",
    "        val_loss_list.append(val_loss)\n",
    "        train_acc_list.append(train_acc)\n",
    "        val_acc_list.append(val_acc)\n",
    "    \n",
    "        if max_acc < val_acc:\n",
    "            max_acc = val_acc\n",
    "            torch.save(model.state_dict(), name)\n",
    "\n",
    "    plot_training_curves(train_loss_list, val_loss_list, train_acc_list, val_acc_list)"
   ]
  },
  {
   "cell_type": "code",
   "execution_count": 14,
   "metadata": {
    "execution": {
     "iopub.execute_input": "2025-07-31T08:56:59.495599Z",
     "iopub.status.busy": "2025-07-31T08:56:59.495370Z",
     "iopub.status.idle": "2025-07-31T08:56:59.514714Z",
     "shell.execute_reply": "2025-07-31T08:56:59.514104Z",
     "shell.execute_reply.started": "2025-07-31T08:56:59.495583Z"
    }
   },
   "outputs": [],
   "source": [
    "# первая модель в ансамбле\n",
    "class ButterflyClassifierUpdated(nn.Module):\n",
    "    def __init__(self):\n",
    "        super().__init__()\n",
    "        self.base_model = models.efficientnet_b3(pretrained=True)\n",
    "        self.base_model.classifier = nn.Sequential(\n",
    "            nn.Dropout(p=0.4, inplace=True),\n",
    "            nn.Linear(self.base_model.classifier[1].in_features, 50)\n",
    "        )\n",
    "    \n",
    "    def forward(self, x):\n",
    "        return self.base_model(x)"
   ]
  },
  {
   "cell_type": "code",
   "execution_count": 15,
   "metadata": {
    "execution": {
     "iopub.execute_input": "2025-07-31T08:56:59.515452Z",
     "iopub.status.busy": "2025-07-31T08:56:59.515273Z",
     "iopub.status.idle": "2025-07-31T08:57:02.262574Z",
     "shell.execute_reply": "2025-07-31T08:57:02.261949Z",
     "shell.execute_reply.started": "2025-07-31T08:56:59.515438Z"
    }
   },
   "outputs": [],
   "source": [
    "transform = transforms.Compose([\n",
    "    transforms.ToTensor(),\n",
    "    transforms.Normalize(mean=[0.485, 0.456, 0.406], std=[0.229, 0.224, 0.225]) # статистика ImageNet\n",
    "])\n",
    "\n",
    "aug_transform = transforms.Compose([\n",
    "    transforms.RandomAffine(degrees=(-20, 20), translate=(0.1, 0.1)),\n",
    "    transforms.RandomHorizontalFlip(p=0.5),\n",
    "    transforms.ColorJitter(brightness=0.2, contrast=0.2, saturation=0.2, hue=0.1),\n",
    "    transforms.RandomResizedCrop(224, scale=(0.8, 1.)),\n",
    "    transforms.RandomApply([transforms.GaussianBlur(3)], p=0.1),\n",
    "    transforms.RandomAdjustSharpness(1.5, p=0.3),\n",
    "    \n",
    "    transforms.ToTensor(),\n",
    "    transforms.Normalize(mean=[0.485, 0.456, 0.406], std=[0.229, 0.224, 0.225])\n",
    "])\n",
    "\n",
    "#\n",
    "train_dataset = datasets.ImageFolder(\n",
    "    root=train_dir,\n",
    "    transform=None\n",
    ")\n",
    "\n",
    "train_tmp, val_tmp = random_split(train_dataset, [0.8, 0.2])"
   ]
  },
  {
   "cell_type": "code",
   "execution_count": 16,
   "metadata": {
    "execution": {
     "iopub.execute_input": "2025-07-31T08:57:02.263966Z",
     "iopub.status.busy": "2025-07-31T08:57:02.263740Z",
     "iopub.status.idle": "2025-07-31T08:57:02.269710Z",
     "shell.execute_reply": "2025-07-31T08:57:02.268967Z",
     "shell.execute_reply.started": "2025-07-31T08:57:02.263949Z"
    }
   },
   "outputs": [],
   "source": [
    "class TransformSubset(torch.utils.data.Dataset):\n",
    "    def __init__(self, subset, transform=None):\n",
    "        self.subset = subset\n",
    "        self.transform = transform\n",
    "\n",
    "    def __getitem__(self, index):\n",
    "        x, y = self.subset[index]\n",
    "        if self.transform:\n",
    "            x = self.transform(x)\n",
    "        return x, y\n",
    "\n",
    "    def __len__(self):\n",
    "        return len(self.subset)\n",
    "\n",
    "train_ds = TransformSubset(train_tmp, aug_transform)\n",
    "val_ds = TransformSubset(val_tmp, transform)\n",
    "\n",
    "train_loader = DataLoader(train_ds, batch_size=batch_size, shuffle=True)\n",
    "val_loader = DataLoader(val_ds, batch_size=batch_size, shuffle=False)"
   ]
  },
  {
   "cell_type": "code",
   "execution_count": 17,
   "metadata": {
    "execution": {
     "iopub.execute_input": "2025-07-31T08:57:02.270727Z",
     "iopub.status.busy": "2025-07-31T08:57:02.270502Z",
     "iopub.status.idle": "2025-07-31T09:21:07.125167Z",
     "shell.execute_reply": "2025-07-31T09:21:07.124526Z",
     "shell.execute_reply.started": "2025-07-31T08:57:02.270710Z"
    }
   },
   "outputs": [
    {
     "name": "stderr",
     "output_type": "stream",
     "text": [
      "Epoch 1/20: 100%|██████████| 248/248 [01:30<00:00,  2.76it/s]\n"
     ]
    },
    {
     "name": "stdout",
     "output_type": "stream",
     "text": [
      "Train Loss: 3.6221 | Acc: 18.92%\n",
      "Val Loss: 9.4899 | Acc: 57.42%\n"
     ]
    },
    {
     "name": "stderr",
     "output_type": "stream",
     "text": [
      "Epoch 2/20: 100%|██████████| 248/248 [01:07<00:00,  3.68it/s]\n"
     ]
    },
    {
     "name": "stdout",
     "output_type": "stream",
     "text": [
      "Train Loss: 2.2420 | Acc: 63.07%\n",
      "Val Loss: 10.8955 | Acc: 76.99%\n"
     ]
    },
    {
     "name": "stderr",
     "output_type": "stream",
     "text": [
      "Epoch 3/20: 100%|██████████| 248/248 [01:07<00:00,  3.70it/s]\n"
     ]
    },
    {
     "name": "stdout",
     "output_type": "stream",
     "text": [
      "Train Loss: 1.0800 | Acc: 81.63%\n",
      "Val Loss: 4.0437 | Acc: 83.65%\n"
     ]
    },
    {
     "name": "stderr",
     "output_type": "stream",
     "text": [
      "Epoch 4/20: 100%|██████████| 248/248 [01:07<00:00,  3.68it/s]\n"
     ]
    },
    {
     "name": "stdout",
     "output_type": "stream",
     "text": [
      "Train Loss: 0.6534 | Acc: 87.46%\n",
      "Val Loss: 1.2669 | Acc: 88.40%\n"
     ]
    },
    {
     "name": "stderr",
     "output_type": "stream",
     "text": [
      "Epoch 5/20: 100%|██████████| 248/248 [01:07<00:00,  3.67it/s]\n"
     ]
    },
    {
     "name": "stdout",
     "output_type": "stream",
     "text": [
      "Train Loss: 0.4503 | Acc: 90.74%\n",
      "Val Loss: 0.7643 | Acc: 90.41%\n"
     ]
    },
    {
     "name": "stderr",
     "output_type": "stream",
     "text": [
      "Epoch 6/20: 100%|██████████| 248/248 [01:07<00:00,  3.70it/s]\n"
     ]
    },
    {
     "name": "stdout",
     "output_type": "stream",
     "text": [
      "Train Loss: 0.3387 | Acc: 92.56%\n",
      "Val Loss: 0.6933 | Acc: 92.43%\n"
     ]
    },
    {
     "name": "stderr",
     "output_type": "stream",
     "text": [
      "Epoch 7/20: 100%|██████████| 248/248 [01:06<00:00,  3.71it/s]\n"
     ]
    },
    {
     "name": "stdout",
     "output_type": "stream",
     "text": [
      "Train Loss: 0.2798 | Acc: 94.15%\n",
      "Val Loss: 0.9791 | Acc: 92.43%\n"
     ]
    },
    {
     "name": "stderr",
     "output_type": "stream",
     "text": [
      "Epoch 8/20: 100%|██████████| 248/248 [01:07<00:00,  3.68it/s]\n"
     ]
    },
    {
     "name": "stdout",
     "output_type": "stream",
     "text": [
      "Train Loss: 0.2421 | Acc: 94.35%\n",
      "Val Loss: 0.3639 | Acc: 92.63%\n"
     ]
    },
    {
     "name": "stderr",
     "output_type": "stream",
     "text": [
      "Epoch 9/20: 100%|██████████| 248/248 [01:06<00:00,  3.73it/s]\n"
     ]
    },
    {
     "name": "stdout",
     "output_type": "stream",
     "text": [
      "Train Loss: 0.1938 | Acc: 95.84%\n",
      "Val Loss: 0.2873 | Acc: 93.74%\n"
     ]
    },
    {
     "name": "stderr",
     "output_type": "stream",
     "text": [
      "Epoch 10/20: 100%|██████████| 248/248 [01:06<00:00,  3.72it/s]\n"
     ]
    },
    {
     "name": "stdout",
     "output_type": "stream",
     "text": [
      "Train Loss: 0.1580 | Acc: 96.57%\n",
      "Val Loss: 0.2442 | Acc: 93.54%\n"
     ]
    },
    {
     "name": "stderr",
     "output_type": "stream",
     "text": [
      "Epoch 11/20: 100%|██████████| 248/248 [01:06<00:00,  3.72it/s]\n"
     ]
    },
    {
     "name": "stdout",
     "output_type": "stream",
     "text": [
      "Train Loss: 0.1483 | Acc: 96.72%\n",
      "Val Loss: 0.2609 | Acc: 93.14%\n"
     ]
    },
    {
     "name": "stderr",
     "output_type": "stream",
     "text": [
      "Epoch 12/20: 100%|██████████| 248/248 [01:06<00:00,  3.71it/s]\n"
     ]
    },
    {
     "name": "stdout",
     "output_type": "stream",
     "text": [
      "Train Loss: 0.1290 | Acc: 97.07%\n",
      "Val Loss: 0.2407 | Acc: 93.95%\n"
     ]
    },
    {
     "name": "stderr",
     "output_type": "stream",
     "text": [
      "Epoch 13/20: 100%|██████████| 248/248 [01:06<00:00,  3.74it/s]\n"
     ]
    },
    {
     "name": "stdout",
     "output_type": "stream",
     "text": [
      "Train Loss: 0.1185 | Acc: 97.05%\n",
      "Val Loss: 0.2258 | Acc: 94.75%\n"
     ]
    },
    {
     "name": "stderr",
     "output_type": "stream",
     "text": [
      "Epoch 14/20: 100%|██████████| 248/248 [01:06<00:00,  3.72it/s]\n"
     ]
    },
    {
     "name": "stdout",
     "output_type": "stream",
     "text": [
      "Train Loss: 0.1083 | Acc: 97.38%\n",
      "Val Loss: 0.2235 | Acc: 94.65%\n"
     ]
    },
    {
     "name": "stderr",
     "output_type": "stream",
     "text": [
      "Epoch 15/20: 100%|██████████| 248/248 [01:06<00:00,  3.74it/s]\n"
     ]
    },
    {
     "name": "stdout",
     "output_type": "stream",
     "text": [
      "Train Loss: 0.0932 | Acc: 97.86%\n",
      "Val Loss: 0.2304 | Acc: 94.35%\n"
     ]
    },
    {
     "name": "stderr",
     "output_type": "stream",
     "text": [
      "Epoch 16/20: 100%|██████████| 248/248 [01:05<00:00,  3.77it/s]\n"
     ]
    },
    {
     "name": "stdout",
     "output_type": "stream",
     "text": [
      "Train Loss: 0.0860 | Acc: 97.86%\n",
      "Val Loss: 0.2383 | Acc: 93.74%\n"
     ]
    },
    {
     "name": "stderr",
     "output_type": "stream",
     "text": [
      "Epoch 17/20: 100%|██████████| 248/248 [01:07<00:00,  3.66it/s]\n"
     ]
    },
    {
     "name": "stdout",
     "output_type": "stream",
     "text": [
      "Train Loss: 0.0781 | Acc: 98.18%\n",
      "Val Loss: 0.2339 | Acc: 94.65%\n"
     ]
    },
    {
     "name": "stderr",
     "output_type": "stream",
     "text": [
      "Epoch 18/20: 100%|██████████| 248/248 [01:07<00:00,  3.69it/s]\n"
     ]
    },
    {
     "name": "stdout",
     "output_type": "stream",
     "text": [
      "Train Loss: 0.0717 | Acc: 98.23%\n",
      "Val Loss: 0.2309 | Acc: 94.35%\n"
     ]
    },
    {
     "name": "stderr",
     "output_type": "stream",
     "text": [
      "Epoch 19/20: 100%|██████████| 248/248 [01:07<00:00,  3.68it/s]\n"
     ]
    },
    {
     "name": "stdout",
     "output_type": "stream",
     "text": [
      "Train Loss: 0.0615 | Acc: 98.54%\n",
      "Val Loss: 0.2356 | Acc: 94.75%\n"
     ]
    },
    {
     "name": "stderr",
     "output_type": "stream",
     "text": [
      "Epoch 20/20: 100%|██████████| 248/248 [01:06<00:00,  3.75it/s]\n"
     ]
    },
    {
     "name": "stdout",
     "output_type": "stream",
     "text": [
      "Train Loss: 0.0622 | Acc: 98.56%\n",
      "Val Loss: 0.2279 | Acc: 95.06%\n"
     ]
    },
    {
     "data": {
      "image/png": "[encoded data removed]",
      "text/plain": [
       "<Figure size 1200x500 with 2 Axes>"
      ]
     },
     "metadata": {},
     "output_type": "display_data"
    }
   ],
   "source": [
    "model1 = ButterflyClassifierUpdated().to(device)\n",
    "opt = optim.Adam(model1.parameters(), lr=0.00005, amsgrad=True)\n",
    "loss_func = nn.CrossEntropyLoss()\n",
    "train_model(model1, 20, opt, loss_func, \"first_model.pth\")"
   ]
  },
  {
   "cell_type": "code",
   "execution_count": 18,
   "metadata": {
    "execution": {
     "iopub.execute_input": "2025-07-31T09:21:07.126593Z",
     "iopub.status.busy": "2025-07-31T09:21:07.126051Z",
     "iopub.status.idle": "2025-07-31T09:21:07.130792Z",
     "shell.execute_reply": "2025-07-31T09:21:07.130192Z",
     "shell.execute_reply.started": "2025-07-31T09:21:07.126573Z"
    }
   },
   "outputs": [],
   "source": [
    "# вторая модель\n",
    "class ButterflyClassifierResnet(nn.Module):\n",
    "    def __init__(self):\n",
    "        super().__init__()\n",
    "        self.base_model = models.wide_resnet50_2(pretrained=True)\n",
    "        self.base_model.fc = nn.Sequential(\n",
    "            nn.Dropout(p=0.4, inplace=True),\n",
    "            nn.Linear(self.base_model.fc.in_features, 50)\n",
    "        )\n",
    "    \n",
    "    def forward(self, x):\n",
    "        return self.base_model(x)"
   ]
  },
  {
   "cell_type": "code",
   "execution_count": 19,
   "metadata": {
    "execution": {
     "iopub.execute_input": "2025-07-31T09:21:07.131605Z",
     "iopub.status.busy": "2025-07-31T09:21:07.131398Z",
     "iopub.status.idle": "2025-07-31T09:49:11.933083Z",
     "shell.execute_reply": "2025-07-31T09:49:11.932367Z",
     "shell.execute_reply.started": "2025-07-31T09:21:07.131580Z"
    }
   },
   "outputs": [
    {
     "name": "stderr",
     "output_type": "stream",
     "text": [
      "Epoch 1/20: 100%|██████████| 248/248 [01:18<00:00,  3.17it/s]\n"
     ]
    },
    {
     "name": "stdout",
     "output_type": "stream",
     "text": [
      "Train Loss: 1.6041 | Acc: 65.97%\n",
      "Val Loss: 0.3749 | Acc: 89.20%\n"
     ]
    },
    {
     "name": "stderr",
     "output_type": "stream",
     "text": [
      "Epoch 2/20: 100%|██████████| 248/248 [01:18<00:00,  3.17it/s]\n"
     ]
    },
    {
     "name": "stdout",
     "output_type": "stream",
     "text": [
      "Train Loss: 0.4322 | Acc: 89.68%\n",
      "Val Loss: 0.3203 | Acc: 90.31%\n"
     ]
    },
    {
     "name": "stderr",
     "output_type": "stream",
     "text": [
      "Epoch 3/20: 100%|██████████| 248/248 [01:18<00:00,  3.15it/s]\n"
     ]
    },
    {
     "name": "stdout",
     "output_type": "stream",
     "text": [
      "Train Loss: 0.3175 | Acc: 92.28%\n",
      "Val Loss: 0.3312 | Acc: 92.53%\n"
     ]
    },
    {
     "name": "stderr",
     "output_type": "stream",
     "text": [
      "Epoch 4/20: 100%|██████████| 248/248 [01:18<00:00,  3.14it/s]\n"
     ]
    },
    {
     "name": "stdout",
     "output_type": "stream",
     "text": [
      "Train Loss: 0.2418 | Acc: 93.82%\n",
      "Val Loss: 0.3002 | Acc: 92.63%\n"
     ]
    },
    {
     "name": "stderr",
     "output_type": "stream",
     "text": [
      "Epoch 5/20: 100%|██████████| 248/248 [01:19<00:00,  3.14it/s]\n"
     ]
    },
    {
     "name": "stdout",
     "output_type": "stream",
     "text": [
      "Train Loss: 0.1847 | Acc: 95.31%\n",
      "Val Loss: 0.3450 | Acc: 92.43%\n"
     ]
    },
    {
     "name": "stderr",
     "output_type": "stream",
     "text": [
      "Epoch 6/20: 100%|██████████| 248/248 [01:19<00:00,  3.12it/s]\n"
     ]
    },
    {
     "name": "stdout",
     "output_type": "stream",
     "text": [
      "Train Loss: 0.1560 | Acc: 95.99%\n",
      "Val Loss: 0.3223 | Acc: 92.84%\n"
     ]
    },
    {
     "name": "stderr",
     "output_type": "stream",
     "text": [
      "Epoch 7/20: 100%|██████████| 248/248 [01:19<00:00,  3.14it/s]\n"
     ]
    },
    {
     "name": "stdout",
     "output_type": "stream",
     "text": [
      "Train Loss: 0.1474 | Acc: 95.79%\n",
      "Val Loss: 0.3676 | Acc: 91.62%\n"
     ]
    },
    {
     "name": "stderr",
     "output_type": "stream",
     "text": [
      "Epoch 8/20: 100%|██████████| 248/248 [01:18<00:00,  3.16it/s]\n"
     ]
    },
    {
     "name": "stdout",
     "output_type": "stream",
     "text": [
      "Train Loss: 0.1404 | Acc: 96.44%\n",
      "Val Loss: 0.3870 | Acc: 91.62%\n"
     ]
    },
    {
     "name": "stderr",
     "output_type": "stream",
     "text": [
      "Epoch 9/20: 100%|██████████| 248/248 [01:19<00:00,  3.13it/s]\n"
     ]
    },
    {
     "name": "stdout",
     "output_type": "stream",
     "text": [
      "Train Loss: 0.1518 | Acc: 95.74%\n",
      "Val Loss: 0.3783 | Acc: 91.73%\n"
     ]
    },
    {
     "name": "stderr",
     "output_type": "stream",
     "text": [
      "Epoch 10/20: 100%|██████████| 248/248 [01:18<00:00,  3.16it/s]\n"
     ]
    },
    {
     "name": "stdout",
     "output_type": "stream",
     "text": [
      "Train Loss: 0.1224 | Acc: 96.72%\n",
      "Val Loss: 0.3314 | Acc: 92.33%\n"
     ]
    },
    {
     "name": "stderr",
     "output_type": "stream",
     "text": [
      "Epoch 11/20: 100%|██████████| 248/248 [01:19<00:00,  3.13it/s]\n"
     ]
    },
    {
     "name": "stdout",
     "output_type": "stream",
     "text": [
      "Train Loss: 0.1016 | Acc: 97.05%\n",
      "Val Loss: 0.3055 | Acc: 94.25%\n"
     ]
    },
    {
     "name": "stderr",
     "output_type": "stream",
     "text": [
      "Epoch 12/20: 100%|██████████| 248/248 [01:18<00:00,  3.14it/s]\n"
     ]
    },
    {
     "name": "stdout",
     "output_type": "stream",
     "text": [
      "Train Loss: 0.0829 | Acc: 97.88%\n",
      "Val Loss: 0.3397 | Acc: 92.63%\n"
     ]
    },
    {
     "name": "stderr",
     "output_type": "stream",
     "text": [
      "Epoch 13/20: 100%|██████████| 248/248 [01:19<00:00,  3.13it/s]\n"
     ]
    },
    {
     "name": "stdout",
     "output_type": "stream",
     "text": [
      "Train Loss: 0.0693 | Acc: 98.39%\n",
      "Val Loss: 0.3530 | Acc: 93.95%\n"
     ]
    },
    {
     "name": "stderr",
     "output_type": "stream",
     "text": [
      "Epoch 14/20: 100%|██████████| 248/248 [01:18<00:00,  3.14it/s]\n"
     ]
    },
    {
     "name": "stdout",
     "output_type": "stream",
     "text": [
      "Train Loss: 0.0691 | Acc: 97.91%\n",
      "Val Loss: 0.3694 | Acc: 94.15%\n"
     ]
    },
    {
     "name": "stderr",
     "output_type": "stream",
     "text": [
      "Epoch 15/20: 100%|██████████| 248/248 [01:18<00:00,  3.15it/s]\n"
     ]
    },
    {
     "name": "stdout",
     "output_type": "stream",
     "text": [
      "Train Loss: 0.0515 | Acc: 98.59%\n",
      "Val Loss: 0.4075 | Acc: 93.44%\n"
     ]
    },
    {
     "name": "stderr",
     "output_type": "stream",
     "text": [
      "Epoch 16/20: 100%|██████████| 248/248 [01:19<00:00,  3.13it/s]\n"
     ]
    },
    {
     "name": "stdout",
     "output_type": "stream",
     "text": [
      "Train Loss: 0.0671 | Acc: 98.13%\n",
      "Val Loss: 0.3350 | Acc: 94.15%\n"
     ]
    },
    {
     "name": "stderr",
     "output_type": "stream",
     "text": [
      "Epoch 17/20: 100%|██████████| 248/248 [01:18<00:00,  3.15it/s]\n"
     ]
    },
    {
     "name": "stdout",
     "output_type": "stream",
     "text": [
      "Train Loss: 0.0459 | Acc: 98.54%\n",
      "Val Loss: 0.3253 | Acc: 94.45%\n"
     ]
    },
    {
     "name": "stderr",
     "output_type": "stream",
     "text": [
      "Epoch 18/20: 100%|██████████| 248/248 [01:18<00:00,  3.15it/s]\n"
     ]
    },
    {
     "name": "stdout",
     "output_type": "stream",
     "text": [
      "Train Loss: 0.0462 | Acc: 98.64%\n",
      "Val Loss: 0.3737 | Acc: 93.84%\n"
     ]
    },
    {
     "name": "stderr",
     "output_type": "stream",
     "text": [
      "Epoch 19/20: 100%|██████████| 248/248 [01:18<00:00,  3.18it/s]\n"
     ]
    },
    {
     "name": "stdout",
     "output_type": "stream",
     "text": [
      "Train Loss: 0.0443 | Acc: 98.84%\n",
      "Val Loss: 0.3481 | Acc: 94.55%\n"
     ]
    },
    {
     "name": "stderr",
     "output_type": "stream",
     "text": [
      "Epoch 20/20: 100%|██████████| 248/248 [01:18<00:00,  3.16it/s]\n"
     ]
    },
    {
     "name": "stdout",
     "output_type": "stream",
     "text": [
      "Train Loss: 0.0312 | Acc: 99.27%\n",
      "Val Loss: 0.3670 | Acc: 93.95%\n"
     ]
    },
    {
     "data": {
      "image/png": "[encoded data removed]",
      "text/plain": [
       "<Figure size 1200x500 with 2 Axes>"
      ]
     },
     "metadata": {},
     "output_type": "display_data"
    }
   ],
   "source": [
    "model2 = ButterflyClassifierResnet().to(device)\n",
    "opt = optim.Adam(model2.parameters(), lr=0.0001, amsgrad=True)\n",
    "loss_func = nn.CrossEntropyLoss()\n",
    "train_model(model2, 20, opt, loss_func, \"second_model.pth\")"
   ]
  },
  {
   "cell_type": "code",
   "execution_count": 20,
   "metadata": {
    "execution": {
     "iopub.execute_input": "2025-07-31T09:49:11.935094Z",
     "iopub.status.busy": "2025-07-31T09:49:11.934888Z",
     "iopub.status.idle": "2025-07-31T09:49:11.939441Z",
     "shell.execute_reply": "2025-07-31T09:49:11.938920Z",
     "shell.execute_reply.started": "2025-07-31T09:49:11.935077Z"
    }
   },
   "outputs": [],
   "source": [
    "class FinalModel(nn.Module):\n",
    "    def __init__(self, model1, model2):\n",
    "        super().__init__()\n",
    "        self.model1 = model1\n",
    "        self.model2 = model2\n",
    "        \n",
    "    def forward(self, x):\n",
    "        preds1 = self.model1(x)\n",
    "        preds2 = self.model2(x), dim=1\n",
    "        \n",
    "        return (preds1 + preds2) / 2 # возвращаем логиты для корректной работы функции потерь"
   ]
  },
  {
   "cell_type": "code",
   "execution_count": 21,
   "metadata": {
    "execution": {
     "iopub.execute_input": "2025-07-31T09:49:11.940326Z",
     "iopub.status.busy": "2025-07-31T09:49:11.940095Z",
     "iopub.status.idle": "2025-07-31T09:49:12.362633Z",
     "shell.execute_reply": "2025-07-31T09:49:12.362082Z",
     "shell.execute_reply.started": "2025-07-31T09:49:11.940311Z"
    }
   },
   "outputs": [],
   "source": [
    "model1.load_state_dict(torch.load('/kaggle/working/first_model.pth'))\n",
    "model2.load_state_dict(torch.load('/kaggle/working/second_model.pth'))\n",
    "\n",
    "model1.eval()\n",
    "model2.eval()\n",
    "\n",
    "final_model = FinalModel(model1, model2).to(device)"
   ]
  },
  {
   "cell_type": "code",
   "execution_count": 23,
   "metadata": {
    "execution": {
     "iopub.execute_input": "2025-07-31T09:50:26.283820Z",
     "iopub.status.busy": "2025-07-31T09:50:26.283496Z",
     "iopub.status.idle": "2025-07-31T09:50:33.062291Z",
     "shell.execute_reply": "2025-07-31T09:50:33.061640Z",
     "shell.execute_reply.started": "2025-07-31T09:50:26.283798Z"
    }
   },
   "outputs": [
    {
     "name": "stdout",
     "output_type": "stream",
     "text": [
      "Val Loss: 3.0100 | Acc: 95.26%\n"
     ]
    }
   ],
   "source": [
    "val_loss = 0.\n",
    "correct = 0\n",
    "total = 0\n",
    "\n",
    "with torch.no_grad():\n",
    "    for inputs, labels in val_loader:\n",
    "        inputs, labels = inputs.to(device), labels.to(device)\n",
    "        outputs = final_model(inputs)\n",
    "        loss = loss_func(outputs, labels)\n",
    "        \n",
    "        val_loss += loss.item()\n",
    "        _, predicted = outputs.max(1)\n",
    "        total += labels.size(0)\n",
    "        correct += predicted.eq(labels).sum().item()\n",
    "\n",
    "val_acc = 100. * correct / total\n",
    "val_loss /= len(val_loader)\n",
    "\n",
    "print(f\"Val Loss: {val_loss:.4f} | Acc: {val_acc:.2f}%\")"
   ]
  }
 ],
 "metadata": {
  "kaggle": {
   "accelerator": "gpu",
   "dataSources": [
    {
     "databundleVersionId": 11397519,
     "sourceId": 96000,
     "sourceType": "competition"
    },
    {
     "datasetId": 7945927,
     "sourceId": 12581365,
     "sourceType": "datasetVersion"
    }
   ],
   "dockerImageVersionId": 31090,
   "isGpuEnabled": true,
   "isInternetEnabled": true,
   "language": "python",
   "sourceType": "notebook"
  },
  "kernelspec": {
   "display_name": "Python 3 (ipykernel)",
   "language": "python",
   "name": "python3"
  },
  "language_info": {
   "codemirror_mode": {
    "name": "ipython",
    "version": 3
   },
   "file_extension": ".py",
   "mimetype": "text/x-python",
   "name": "python",
   "nbconvert_exporter": "python",
   "pygments_lexer": "ipython3",
   "version": "3.12.3"
  }
 },
 "nbformat": 4,
 "nbformat_minor": 4
}
